{
 "cells": [
  {
   "cell_type": "markdown",
   "id": "54257433",
   "metadata": {},
   "source": [
    "# Manual Python"
   ]
  },
  {
   "cell_type": "markdown",
   "id": "a5ac887d",
   "metadata": {},
   "source": [
    "This manual has its main goal to learn how to use Python."
   ]
  },
  {
   "cell_type": "markdown",
   "id": "dfd47e96-5895-4389-8bf1-12719f616a85",
   "metadata": {},
   "source": [
    "## Open library and import data set"
   ]
  },
  {
   "cell_type": "markdown",
   "id": "543232e3",
   "metadata": {},
   "source": [
    "The first step, is to import panda as pd, like the next code:"
   ]
  },
  {
   "cell_type": "code",
   "execution_count": 2,
   "id": "73e2a3bb",
   "metadata": {},
   "outputs": [],
   "source": [
    "import pandas as pd"
   ]
  },
  {
   "cell_type": "code",
   "execution_count": 3,
   "id": "1de364ac",
   "metadata": {},
   "outputs": [],
   "source": [
    "dg = pd.read_excel(\"Base_Pepa.xlsx\")"
   ]
  },
  {
   "cell_type": "code",
   "execution_count": 6,
   "id": "dabae08c",
   "metadata": {},
   "outputs": [
    {
     "data": {
      "text/html": [
       "<div>\n",
       "<style scoped>\n",
       "    .dataframe tbody tr th:only-of-type {\n",
       "        vertical-align: middle;\n",
       "    }\n",
       "\n",
       "    .dataframe tbody tr th {\n",
       "        vertical-align: top;\n",
       "    }\n",
       "\n",
       "    .dataframe thead th {\n",
       "        text-align: right;\n",
       "    }\n",
       "</style>\n",
       "<table border=\"1\" class=\"dataframe\">\n",
       "  <thead>\n",
       "    <tr style=\"text-align: right;\">\n",
       "      <th></th>\n",
       "      <th>Grecia</th>\n",
       "      <th>Canada</th>\n",
       "      <th>Fuente</th>\n",
       "      <th>Score</th>\n",
       "    </tr>\n",
       "  </thead>\n",
       "  <tbody>\n",
       "    <tr>\n",
       "      <th>0</th>\n",
       "      <td>1</td>\n",
       "      <td>3</td>\n",
       "      <td>Se mantiene</td>\n",
       "      <td>1705.76</td>\n",
       "    </tr>\n",
       "    <tr>\n",
       "      <th>1</th>\n",
       "      <td>1</td>\n",
       "      <td>1</td>\n",
       "      <td>Mas uno</td>\n",
       "      <td>1340.24</td>\n",
       "    </tr>\n",
       "    <tr>\n",
       "      <th>2</th>\n",
       "      <td>1</td>\n",
       "      <td>1</td>\n",
       "      <td>Mas uno</td>\n",
       "      <td>1720.99</td>\n",
       "    </tr>\n",
       "    <tr>\n",
       "      <th>3</th>\n",
       "      <td>1</td>\n",
       "      <td>1</td>\n",
       "      <td>Mas uno</td>\n",
       "      <td>1264.09</td>\n",
       "    </tr>\n",
       "    <tr>\n",
       "      <th>4</th>\n",
       "      <td>1</td>\n",
       "      <td>1</td>\n",
       "      <td>Mas uno</td>\n",
       "      <td>959.49</td>\n",
       "    </tr>\n",
       "    <tr>\n",
       "      <th>...</th>\n",
       "      <td>...</td>\n",
       "      <td>...</td>\n",
       "      <td>...</td>\n",
       "      <td>...</td>\n",
       "    </tr>\n",
       "    <tr>\n",
       "      <th>495</th>\n",
       "      <td>2</td>\n",
       "      <td>2</td>\n",
       "      <td>Mas uno</td>\n",
       "      <td>1203.17</td>\n",
       "    </tr>\n",
       "    <tr>\n",
       "      <th>496</th>\n",
       "      <td>1</td>\n",
       "      <td>3</td>\n",
       "      <td>Se mantiene</td>\n",
       "      <td>1660.07</td>\n",
       "    </tr>\n",
       "    <tr>\n",
       "      <th>497</th>\n",
       "      <td>1</td>\n",
       "      <td>3</td>\n",
       "      <td>Se mantiene</td>\n",
       "      <td>1675.30</td>\n",
       "    </tr>\n",
       "    <tr>\n",
       "      <th>498</th>\n",
       "      <td>1</td>\n",
       "      <td>1</td>\n",
       "      <td>Mas uno</td>\n",
       "      <td>1644.84</td>\n",
       "    </tr>\n",
       "    <tr>\n",
       "      <th>499</th>\n",
       "      <td>1</td>\n",
       "      <td>1</td>\n",
       "      <td>Mas uno</td>\n",
       "      <td>1812.37</td>\n",
       "    </tr>\n",
       "  </tbody>\n",
       "</table>\n",
       "<p>500 rows × 4 columns</p>\n",
       "</div>"
      ],
      "text/plain": [
       "     Grecia  Canada       Fuente    Score\n",
       "0         1       3  Se mantiene  1705.76\n",
       "1         1       1      Mas uno  1340.24\n",
       "2         1       1      Mas uno  1720.99\n",
       "3         1       1      Mas uno  1264.09\n",
       "4         1       1      Mas uno   959.49\n",
       "..      ...     ...          ...      ...\n",
       "495       2       2      Mas uno  1203.17\n",
       "496       1       3  Se mantiene  1660.07\n",
       "497       1       3  Se mantiene  1675.30\n",
       "498       1       1      Mas uno  1644.84\n",
       "499       1       1      Mas uno  1812.37\n",
       "\n",
       "[500 rows x 4 columns]"
      ]
     },
     "execution_count": 6,
     "metadata": {},
     "output_type": "execute_result"
    }
   ],
   "source": [
    "dg"
   ]
  },
  {
   "cell_type": "code",
   "execution_count": 5,
   "id": "d9c38aac",
   "metadata": {},
   "outputs": [
    {
     "name": "stdout",
     "output_type": "stream",
     "text": [
      "<class 'pandas.core.frame.DataFrame'>\n",
      "RangeIndex: 500 entries, 0 to 499\n",
      "Data columns (total 4 columns):\n",
      " #   Column  Non-Null Count  Dtype  \n",
      "---  ------  --------------  -----  \n",
      " 0   Grecia  500 non-null    int64  \n",
      " 1   Canada  500 non-null    int64  \n",
      " 2   Fuente  500 non-null    object \n",
      " 3   Score   500 non-null    float64\n",
      "dtypes: float64(1), int64(2), object(1)\n",
      "memory usage: 15.8+ KB\n"
     ]
    }
   ],
   "source": [
    "dg.info()"
   ]
  },
  {
   "cell_type": "markdown",
   "id": "ff5900ec",
   "metadata": {},
   "source": [
    "## Columns"
   ]
  },
  {
   "cell_type": "markdown",
   "id": "07a24a78",
   "metadata": {},
   "source": [
    "To get information about the columns of a DataFrame, run the following code"
   ]
  },
  {
   "cell_type": "code",
   "execution_count": 6,
   "id": "969ee37c",
   "metadata": {},
   "outputs": [
    {
     "data": {
      "text/plain": [
       "Index(['Grecia', 'Canada', 'Fuente', 'Score'], dtype='object')"
      ]
     },
     "execution_count": 6,
     "metadata": {},
     "output_type": "execute_result"
    }
   ],
   "source": [
    "nombres = dg.columns\n",
    "nombres"
   ]
  },
  {
   "cell_type": "markdown",
   "id": "6d7f4e75",
   "metadata": {},
   "source": [
    "### Drop variables"
   ]
  },
  {
   "cell_type": "code",
   "execution_count": 7,
   "id": "02ed1d45",
   "metadata": {},
   "outputs": [
    {
     "data": {
      "text/html": [
       "<div>\n",
       "<style scoped>\n",
       "    .dataframe tbody tr th:only-of-type {\n",
       "        vertical-align: middle;\n",
       "    }\n",
       "\n",
       "    .dataframe tbody tr th {\n",
       "        vertical-align: top;\n",
       "    }\n",
       "\n",
       "    .dataframe thead th {\n",
       "        text-align: right;\n",
       "    }\n",
       "</style>\n",
       "<table border=\"1\" class=\"dataframe\">\n",
       "  <thead>\n",
       "    <tr style=\"text-align: right;\">\n",
       "      <th></th>\n",
       "      <th>Grecia</th>\n",
       "      <th>Fuente</th>\n",
       "      <th>Score</th>\n",
       "    </tr>\n",
       "  </thead>\n",
       "  <tbody>\n",
       "    <tr>\n",
       "      <th>0</th>\n",
       "      <td>1</td>\n",
       "      <td>Se mantiene</td>\n",
       "      <td>1705.76</td>\n",
       "    </tr>\n",
       "    <tr>\n",
       "      <th>1</th>\n",
       "      <td>1</td>\n",
       "      <td>Mas uno</td>\n",
       "      <td>1340.24</td>\n",
       "    </tr>\n",
       "    <tr>\n",
       "      <th>2</th>\n",
       "      <td>1</td>\n",
       "      <td>Mas uno</td>\n",
       "      <td>1720.99</td>\n",
       "    </tr>\n",
       "    <tr>\n",
       "      <th>3</th>\n",
       "      <td>1</td>\n",
       "      <td>Mas uno</td>\n",
       "      <td>1264.09</td>\n",
       "    </tr>\n",
       "    <tr>\n",
       "      <th>4</th>\n",
       "      <td>1</td>\n",
       "      <td>Mas uno</td>\n",
       "      <td>959.49</td>\n",
       "    </tr>\n",
       "    <tr>\n",
       "      <th>...</th>\n",
       "      <td>...</td>\n",
       "      <td>...</td>\n",
       "      <td>...</td>\n",
       "    </tr>\n",
       "    <tr>\n",
       "      <th>495</th>\n",
       "      <td>2</td>\n",
       "      <td>Mas uno</td>\n",
       "      <td>1203.17</td>\n",
       "    </tr>\n",
       "    <tr>\n",
       "      <th>496</th>\n",
       "      <td>1</td>\n",
       "      <td>Se mantiene</td>\n",
       "      <td>1660.07</td>\n",
       "    </tr>\n",
       "    <tr>\n",
       "      <th>497</th>\n",
       "      <td>1</td>\n",
       "      <td>Se mantiene</td>\n",
       "      <td>1675.30</td>\n",
       "    </tr>\n",
       "    <tr>\n",
       "      <th>498</th>\n",
       "      <td>1</td>\n",
       "      <td>Mas uno</td>\n",
       "      <td>1644.84</td>\n",
       "    </tr>\n",
       "    <tr>\n",
       "      <th>499</th>\n",
       "      <td>1</td>\n",
       "      <td>Mas uno</td>\n",
       "      <td>1812.37</td>\n",
       "    </tr>\n",
       "  </tbody>\n",
       "</table>\n",
       "<p>500 rows × 3 columns</p>\n",
       "</div>"
      ],
      "text/plain": [
       "     Grecia       Fuente    Score\n",
       "0         1  Se mantiene  1705.76\n",
       "1         1      Mas uno  1340.24\n",
       "2         1      Mas uno  1720.99\n",
       "3         1      Mas uno  1264.09\n",
       "4         1      Mas uno   959.49\n",
       "..      ...          ...      ...\n",
       "495       2      Mas uno  1203.17\n",
       "496       1  Se mantiene  1660.07\n",
       "497       1  Se mantiene  1675.30\n",
       "498       1      Mas uno  1644.84\n",
       "499       1      Mas uno  1812.37\n",
       "\n",
       "[500 rows x 3 columns]"
      ]
     },
     "execution_count": 7,
     "metadata": {},
     "output_type": "execute_result"
    }
   ],
   "source": [
    "dg.drop(columns=[\"Canada\"])"
   ]
  },
  {
   "cell_type": "markdown",
   "id": "773a28bf",
   "metadata": {},
   "source": [
    "### Transpose matrix"
   ]
  },
  {
   "cell_type": "code",
   "execution_count": 8,
   "id": "cb0927e3",
   "metadata": {},
   "outputs": [],
   "source": [
    "ap = dg.T"
   ]
  },
  {
   "cell_type": "code",
   "execution_count": 9,
   "id": "28b11976",
   "metadata": {},
   "outputs": [
    {
     "data": {
      "text/html": [
       "<div>\n",
       "<style scoped>\n",
       "    .dataframe tbody tr th:only-of-type {\n",
       "        vertical-align: middle;\n",
       "    }\n",
       "\n",
       "    .dataframe tbody tr th {\n",
       "        vertical-align: top;\n",
       "    }\n",
       "\n",
       "    .dataframe thead th {\n",
       "        text-align: right;\n",
       "    }\n",
       "</style>\n",
       "<table border=\"1\" class=\"dataframe\">\n",
       "  <thead>\n",
       "    <tr style=\"text-align: right;\">\n",
       "      <th></th>\n",
       "      <th>0</th>\n",
       "      <th>1</th>\n",
       "      <th>2</th>\n",
       "      <th>3</th>\n",
       "      <th>4</th>\n",
       "      <th>5</th>\n",
       "      <th>6</th>\n",
       "      <th>7</th>\n",
       "      <th>8</th>\n",
       "      <th>9</th>\n",
       "      <th>...</th>\n",
       "      <th>490</th>\n",
       "      <th>491</th>\n",
       "      <th>492</th>\n",
       "      <th>493</th>\n",
       "      <th>494</th>\n",
       "      <th>495</th>\n",
       "      <th>496</th>\n",
       "      <th>497</th>\n",
       "      <th>498</th>\n",
       "      <th>499</th>\n",
       "    </tr>\n",
       "  </thead>\n",
       "  <tbody>\n",
       "    <tr>\n",
       "      <th>Grecia</th>\n",
       "      <td>1</td>\n",
       "      <td>1</td>\n",
       "      <td>1</td>\n",
       "      <td>1</td>\n",
       "      <td>1</td>\n",
       "      <td>1</td>\n",
       "      <td>2</td>\n",
       "      <td>2</td>\n",
       "      <td>1</td>\n",
       "      <td>1</td>\n",
       "      <td>...</td>\n",
       "      <td>1</td>\n",
       "      <td>1</td>\n",
       "      <td>1</td>\n",
       "      <td>1</td>\n",
       "      <td>1</td>\n",
       "      <td>2</td>\n",
       "      <td>1</td>\n",
       "      <td>1</td>\n",
       "      <td>1</td>\n",
       "      <td>1</td>\n",
       "    </tr>\n",
       "    <tr>\n",
       "      <th>Canada</th>\n",
       "      <td>3</td>\n",
       "      <td>1</td>\n",
       "      <td>1</td>\n",
       "      <td>1</td>\n",
       "      <td>1</td>\n",
       "      <td>1</td>\n",
       "      <td>1</td>\n",
       "      <td>1</td>\n",
       "      <td>1</td>\n",
       "      <td>3</td>\n",
       "      <td>...</td>\n",
       "      <td>1</td>\n",
       "      <td>2</td>\n",
       "      <td>1</td>\n",
       "      <td>1</td>\n",
       "      <td>3</td>\n",
       "      <td>2</td>\n",
       "      <td>3</td>\n",
       "      <td>3</td>\n",
       "      <td>1</td>\n",
       "      <td>1</td>\n",
       "    </tr>\n",
       "    <tr>\n",
       "      <th>Fuente</th>\n",
       "      <td>Se mantiene</td>\n",
       "      <td>Mas uno</td>\n",
       "      <td>Mas uno</td>\n",
       "      <td>Mas uno</td>\n",
       "      <td>Mas uno</td>\n",
       "      <td>Mas uno</td>\n",
       "      <td>Suma Dos</td>\n",
       "      <td>Suma Dos</td>\n",
       "      <td>Mas uno</td>\n",
       "      <td>Se mantiene</td>\n",
       "      <td>...</td>\n",
       "      <td>Mas uno</td>\n",
       "      <td>Se mantiene</td>\n",
       "      <td>Mas uno</td>\n",
       "      <td>Mas uno</td>\n",
       "      <td>Se mantiene</td>\n",
       "      <td>Mas uno</td>\n",
       "      <td>Se mantiene</td>\n",
       "      <td>Se mantiene</td>\n",
       "      <td>Mas uno</td>\n",
       "      <td>Mas uno</td>\n",
       "    </tr>\n",
       "    <tr>\n",
       "      <th>Score</th>\n",
       "      <td>1705.76</td>\n",
       "      <td>1340.24</td>\n",
       "      <td>1720.99</td>\n",
       "      <td>1264.09</td>\n",
       "      <td>959.49</td>\n",
       "      <td>1081.33</td>\n",
       "      <td>1842.83</td>\n",
       "      <td>1736.22</td>\n",
       "      <td>1538.23</td>\n",
       "      <td>1203.17</td>\n",
       "      <td>...</td>\n",
       "      <td>1705.76</td>\n",
       "      <td>1858.06</td>\n",
       "      <td>1644.84</td>\n",
       "      <td>1644.84</td>\n",
       "      <td>1644.84</td>\n",
       "      <td>1203.17</td>\n",
       "      <td>1660.07</td>\n",
       "      <td>1675.3</td>\n",
       "      <td>1644.84</td>\n",
       "      <td>1812.37</td>\n",
       "    </tr>\n",
       "  </tbody>\n",
       "</table>\n",
       "<p>4 rows × 500 columns</p>\n",
       "</div>"
      ],
      "text/plain": [
       "                0        1        2        3        4        5         6    \\\n",
       "Grecia            1        1        1        1        1        1         2   \n",
       "Canada            3        1        1        1        1        1         1   \n",
       "Fuente  Se mantiene  Mas uno  Mas uno  Mas uno  Mas uno  Mas uno  Suma Dos   \n",
       "Score       1705.76  1340.24  1720.99  1264.09   959.49  1081.33   1842.83   \n",
       "\n",
       "             7        8            9    ...      490          491      492  \\\n",
       "Grecia         2        1            1  ...        1            1        1   \n",
       "Canada         1        1            3  ...        1            2        1   \n",
       "Fuente  Suma Dos  Mas uno  Se mantiene  ...  Mas uno  Se mantiene  Mas uno   \n",
       "Score    1736.22  1538.23      1203.17  ...  1705.76      1858.06  1644.84   \n",
       "\n",
       "            493          494      495          496          497      498  \\\n",
       "Grecia        1            1        2            1            1        1   \n",
       "Canada        1            3        2            3            3        1   \n",
       "Fuente  Mas uno  Se mantiene  Mas uno  Se mantiene  Se mantiene  Mas uno   \n",
       "Score   1644.84      1644.84  1203.17      1660.07       1675.3  1644.84   \n",
       "\n",
       "            499  \n",
       "Grecia        1  \n",
       "Canada        1  \n",
       "Fuente  Mas uno  \n",
       "Score   1812.37  \n",
       "\n",
       "[4 rows x 500 columns]"
      ]
     },
     "execution_count": 9,
     "metadata": {},
     "output_type": "execute_result"
    }
   ],
   "source": [
    "ap"
   ]
  },
  {
   "cell_type": "markdown",
   "id": "8e0a328a",
   "metadata": {},
   "source": [
    "## Data Manipulation: Pag  91"
   ]
  },
  {
   "cell_type": "markdown",
   "id": "09e43111",
   "metadata": {},
   "source": [
    "## Select multiple columns"
   ]
  },
  {
   "cell_type": "code",
   "execution_count": 5,
   "id": "dcc058ac",
   "metadata": {},
   "outputs": [],
   "source": [
    "jh = dg.loc[:, [\"Grecia\", \"Score\"]]"
   ]
  },
  {
   "cell_type": "code",
   "execution_count": 7,
   "id": "482d5e3b",
   "metadata": {},
   "outputs": [
    {
     "name": "stdout",
     "output_type": "stream",
     "text": [
      "   Grecia    Score\n",
      "0       1  1705.76\n",
      "1       1  1340.24\n",
      "2       1  1720.99\n",
      "3       1  1264.09\n",
      "4       1   959.49\n"
     ]
    }
   ],
   "source": [
    "print(jh.head())"
   ]
  },
  {
   "cell_type": "markdown",
   "id": "0ab6a089",
   "metadata": {},
   "source": [
    "## Select a specific range of rows"
   ]
  },
  {
   "cell_type": "markdown",
   "id": "a13cafe6",
   "metadata": {},
   "source": [
    "It is important to remember that Python uses zero-based indexing, meaning it starts counting from zero."
   ]
  },
  {
   "cell_type": "code",
   "execution_count": 8,
   "id": "8f646dd9",
   "metadata": {},
   "outputs": [],
   "source": [
    "GH = dg.loc[[3, 4], :]"
   ]
  },
  {
   "cell_type": "code",
   "execution_count": 9,
   "id": "fbf183fc",
   "metadata": {},
   "outputs": [
    {
     "data": {
      "text/html": [
       "<div>\n",
       "<style scoped>\n",
       "    .dataframe tbody tr th:only-of-type {\n",
       "        vertical-align: middle;\n",
       "    }\n",
       "\n",
       "    .dataframe tbody tr th {\n",
       "        vertical-align: top;\n",
       "    }\n",
       "\n",
       "    .dataframe thead th {\n",
       "        text-align: right;\n",
       "    }\n",
       "</style>\n",
       "<table border=\"1\" class=\"dataframe\">\n",
       "  <thead>\n",
       "    <tr style=\"text-align: right;\">\n",
       "      <th></th>\n",
       "      <th>Grecia</th>\n",
       "      <th>Canada</th>\n",
       "      <th>Fuente</th>\n",
       "      <th>Score</th>\n",
       "    </tr>\n",
       "  </thead>\n",
       "  <tbody>\n",
       "    <tr>\n",
       "      <th>3</th>\n",
       "      <td>1</td>\n",
       "      <td>1</td>\n",
       "      <td>Mas uno</td>\n",
       "      <td>1264.09</td>\n",
       "    </tr>\n",
       "    <tr>\n",
       "      <th>4</th>\n",
       "      <td>1</td>\n",
       "      <td>1</td>\n",
       "      <td>Mas uno</td>\n",
       "      <td>959.49</td>\n",
       "    </tr>\n",
       "  </tbody>\n",
       "</table>\n",
       "</div>"
      ],
      "text/plain": [
       "   Grecia  Canada   Fuente    Score\n",
       "3       1       1  Mas uno  1264.09\n",
       "4       1       1  Mas uno   959.49"
      ]
     },
     "execution_count": 9,
     "metadata": {},
     "output_type": "execute_result"
    }
   ],
   "source": [
    "GH"
   ]
  },
  {
   "cell_type": "markdown",
   "id": "9f0328a9",
   "metadata": {},
   "source": [
    "## Setting Data: Pag 97"
   ]
  },
  {
   "cell_type": "markdown",
   "id": "aac3f6d0",
   "metadata": {},
   "source": [
    "To replace a value from another, I should apply the following code:"
   ]
  },
  {
   "cell_type": "markdown",
   "id": "d430cbbf",
   "metadata": {},
   "source": [
    "When using loc/iloc, the part before the comma is the rows you want, and the part after the comma is the columns you want to select."
   ]
  },
  {
   "cell_type": "code",
   "execution_count": 7,
   "id": "85c5719a",
   "metadata": {},
   "outputs": [],
   "source": [
    "dg2 = dg.copy()"
   ]
  },
  {
   "cell_type": "code",
   "execution_count": 9,
   "id": "06a4e505",
   "metadata": {},
   "outputs": [],
   "source": [
    "dg2.loc[0, \"Fuente\"] = \"Unidos\""
   ]
  },
  {
   "cell_type": "code",
   "execution_count": 10,
   "id": "12ced87c",
   "metadata": {},
   "outputs": [
    {
     "data": {
      "text/html": [
       "<div>\n",
       "<style scoped>\n",
       "    .dataframe tbody tr th:only-of-type {\n",
       "        vertical-align: middle;\n",
       "    }\n",
       "\n",
       "    .dataframe tbody tr th {\n",
       "        vertical-align: top;\n",
       "    }\n",
       "\n",
       "    .dataframe thead th {\n",
       "        text-align: right;\n",
       "    }\n",
       "</style>\n",
       "<table border=\"1\" class=\"dataframe\">\n",
       "  <thead>\n",
       "    <tr style=\"text-align: right;\">\n",
       "      <th></th>\n",
       "      <th>Grecia</th>\n",
       "      <th>Canada</th>\n",
       "      <th>Fuente</th>\n",
       "      <th>Score</th>\n",
       "    </tr>\n",
       "  </thead>\n",
       "  <tbody>\n",
       "    <tr>\n",
       "      <th>0</th>\n",
       "      <td>1</td>\n",
       "      <td>3</td>\n",
       "      <td>Unidos</td>\n",
       "      <td>1705.76</td>\n",
       "    </tr>\n",
       "    <tr>\n",
       "      <th>1</th>\n",
       "      <td>1</td>\n",
       "      <td>1</td>\n",
       "      <td>Mas uno</td>\n",
       "      <td>1340.24</td>\n",
       "    </tr>\n",
       "    <tr>\n",
       "      <th>2</th>\n",
       "      <td>1</td>\n",
       "      <td>1</td>\n",
       "      <td>Mas uno</td>\n",
       "      <td>1720.99</td>\n",
       "    </tr>\n",
       "    <tr>\n",
       "      <th>3</th>\n",
       "      <td>1</td>\n",
       "      <td>1</td>\n",
       "      <td>Mas uno</td>\n",
       "      <td>1264.09</td>\n",
       "    </tr>\n",
       "    <tr>\n",
       "      <th>4</th>\n",
       "      <td>1</td>\n",
       "      <td>1</td>\n",
       "      <td>Mas uno</td>\n",
       "      <td>959.49</td>\n",
       "    </tr>\n",
       "  </tbody>\n",
       "</table>\n",
       "</div>"
      ],
      "text/plain": [
       "   Grecia  Canada   Fuente    Score\n",
       "0       1       3   Unidos  1705.76\n",
       "1       1       1  Mas uno  1340.24\n",
       "2       1       1  Mas uno  1720.99\n",
       "3       1       1  Mas uno  1264.09\n",
       "4       1       1  Mas uno   959.49"
      ]
     },
     "execution_count": 10,
     "metadata": {},
     "output_type": "execute_result"
    }
   ],
   "source": [
    "dg2.head()"
   ]
  },
  {
   "cell_type": "markdown",
   "id": "0fa773a7",
   "metadata": {},
   "source": [
    "You can also modify multiple values simultaneously. For instance, if you wish to change the values on the third and fourth lines, you need to use the following code."
   ]
  },
  {
   "cell_type": "code",
   "execution_count": 11,
   "id": "cbd479b3",
   "metadata": {},
   "outputs": [],
   "source": [
    "dg2.loc[[3, 4], \"Score\"] = [1111, 2222]"
   ]
  },
  {
   "cell_type": "code",
   "execution_count": 12,
   "id": "2ead419b",
   "metadata": {},
   "outputs": [
    {
     "data": {
      "text/html": [
       "<div>\n",
       "<style scoped>\n",
       "    .dataframe tbody tr th:only-of-type {\n",
       "        vertical-align: middle;\n",
       "    }\n",
       "\n",
       "    .dataframe tbody tr th {\n",
       "        vertical-align: top;\n",
       "    }\n",
       "\n",
       "    .dataframe thead th {\n",
       "        text-align: right;\n",
       "    }\n",
       "</style>\n",
       "<table border=\"1\" class=\"dataframe\">\n",
       "  <thead>\n",
       "    <tr style=\"text-align: right;\">\n",
       "      <th></th>\n",
       "      <th>Grecia</th>\n",
       "      <th>Canada</th>\n",
       "      <th>Fuente</th>\n",
       "      <th>Score</th>\n",
       "    </tr>\n",
       "  </thead>\n",
       "  <tbody>\n",
       "    <tr>\n",
       "      <th>0</th>\n",
       "      <td>1</td>\n",
       "      <td>3</td>\n",
       "      <td>Unidos</td>\n",
       "      <td>1705.76</td>\n",
       "    </tr>\n",
       "    <tr>\n",
       "      <th>1</th>\n",
       "      <td>1</td>\n",
       "      <td>1</td>\n",
       "      <td>Mas uno</td>\n",
       "      <td>1340.24</td>\n",
       "    </tr>\n",
       "    <tr>\n",
       "      <th>2</th>\n",
       "      <td>1</td>\n",
       "      <td>1</td>\n",
       "      <td>Mas uno</td>\n",
       "      <td>1720.99</td>\n",
       "    </tr>\n",
       "    <tr>\n",
       "      <th>3</th>\n",
       "      <td>1</td>\n",
       "      <td>1</td>\n",
       "      <td>Mas uno</td>\n",
       "      <td>1111.00</td>\n",
       "    </tr>\n",
       "    <tr>\n",
       "      <th>4</th>\n",
       "      <td>1</td>\n",
       "      <td>1</td>\n",
       "      <td>Mas uno</td>\n",
       "      <td>2222.00</td>\n",
       "    </tr>\n",
       "  </tbody>\n",
       "</table>\n",
       "</div>"
      ],
      "text/plain": [
       "   Grecia  Canada   Fuente    Score\n",
       "0       1       3   Unidos  1705.76\n",
       "1       1       1  Mas uno  1340.24\n",
       "2       1       1  Mas uno  1720.99\n",
       "3       1       1  Mas uno  1111.00\n",
       "4       1       1  Mas uno  2222.00"
      ]
     },
     "execution_count": 12,
     "metadata": {},
     "output_type": "execute_result"
    }
   ],
   "source": [
    "dg2.head()"
   ]
  },
  {
   "cell_type": "markdown",
   "id": "332414e1",
   "metadata": {},
   "source": [
    "## Case I"
   ]
  },
  {
   "cell_type": "code",
   "execution_count": 22,
   "id": "0de182be",
   "metadata": {},
   "outputs": [],
   "source": [
    "rainfall = pd.DataFrame(data={\"City 1\": [300.1, 100.2],\n",
    "\"City 2\": [400.3, 300.4],\n",
    "\"City 3\": [1000.5, 1100.6]})"
   ]
  },
  {
   "cell_type": "code",
   "execution_count": 25,
   "id": "e296f00f",
   "metadata": {},
   "outputs": [],
   "source": [
    "rainfall2 = rainfall.copy()"
   ]
  },
  {
   "cell_type": "code",
   "execution_count": 26,
   "id": "dab5b4bf",
   "metadata": {},
   "outputs": [],
   "source": [
    "rainfall2[rainfall2 < 400] = 0"
   ]
  },
  {
   "cell_type": "code",
   "execution_count": 27,
   "id": "a99fcdec",
   "metadata": {},
   "outputs": [
    {
     "data": {
      "text/html": [
       "<div>\n",
       "<style scoped>\n",
       "    .dataframe tbody tr th:only-of-type {\n",
       "        vertical-align: middle;\n",
       "    }\n",
       "\n",
       "    .dataframe tbody tr th {\n",
       "        vertical-align: top;\n",
       "    }\n",
       "\n",
       "    .dataframe thead th {\n",
       "        text-align: right;\n",
       "    }\n",
       "</style>\n",
       "<table border=\"1\" class=\"dataframe\">\n",
       "  <thead>\n",
       "    <tr style=\"text-align: right;\">\n",
       "      <th></th>\n",
       "      <th>City 1</th>\n",
       "      <th>City 2</th>\n",
       "      <th>City 3</th>\n",
       "    </tr>\n",
       "  </thead>\n",
       "  <tbody>\n",
       "    <tr>\n",
       "      <th>0</th>\n",
       "      <td>0.0</td>\n",
       "      <td>400.3</td>\n",
       "      <td>1000.5</td>\n",
       "    </tr>\n",
       "    <tr>\n",
       "      <th>1</th>\n",
       "      <td>0.0</td>\n",
       "      <td>0.0</td>\n",
       "      <td>1100.6</td>\n",
       "    </tr>\n",
       "  </tbody>\n",
       "</table>\n",
       "</div>"
      ],
      "text/plain": [
       "   City 1  City 2  City 3\n",
       "0     0.0   400.3  1000.5\n",
       "1     0.0     0.0  1100.6"
      ]
     },
     "execution_count": 27,
     "metadata": {},
     "output_type": "execute_result"
    }
   ],
   "source": [
    "rainfall2.head()"
   ]
  },
  {
   "cell_type": "markdown",
   "id": "173418e8",
   "metadata": {},
   "source": [
    "## Case II"
   ]
  },
  {
   "cell_type": "markdown",
   "id": "5da06da9",
   "metadata": {},
   "source": [
    "In this case, we wish to replace the string *Mas uno* by **UNO MÁS**"
   ]
  },
  {
   "cell_type": "code",
   "execution_count": 30,
   "id": "c66a8455",
   "metadata": {},
   "outputs": [
    {
     "data": {
      "text/html": [
       "<div>\n",
       "<style scoped>\n",
       "    .dataframe tbody tr th:only-of-type {\n",
       "        vertical-align: middle;\n",
       "    }\n",
       "\n",
       "    .dataframe tbody tr th {\n",
       "        vertical-align: top;\n",
       "    }\n",
       "\n",
       "    .dataframe thead th {\n",
       "        text-align: right;\n",
       "    }\n",
       "</style>\n",
       "<table border=\"1\" class=\"dataframe\">\n",
       "  <thead>\n",
       "    <tr style=\"text-align: right;\">\n",
       "      <th></th>\n",
       "      <th>Grecia</th>\n",
       "      <th>Canada</th>\n",
       "      <th>Fuente</th>\n",
       "      <th>Score</th>\n",
       "    </tr>\n",
       "  </thead>\n",
       "  <tbody>\n",
       "    <tr>\n",
       "      <th>0</th>\n",
       "      <td>1</td>\n",
       "      <td>3</td>\n",
       "      <td>Unidos</td>\n",
       "      <td>1705.76</td>\n",
       "    </tr>\n",
       "    <tr>\n",
       "      <th>1</th>\n",
       "      <td>1</td>\n",
       "      <td>1</td>\n",
       "      <td>UNO MÁS</td>\n",
       "      <td>1340.24</td>\n",
       "    </tr>\n",
       "    <tr>\n",
       "      <th>2</th>\n",
       "      <td>1</td>\n",
       "      <td>1</td>\n",
       "      <td>UNO MÁS</td>\n",
       "      <td>1720.99</td>\n",
       "    </tr>\n",
       "    <tr>\n",
       "      <th>3</th>\n",
       "      <td>1</td>\n",
       "      <td>1</td>\n",
       "      <td>UNO MÁS</td>\n",
       "      <td>1111.00</td>\n",
       "    </tr>\n",
       "    <tr>\n",
       "      <th>4</th>\n",
       "      <td>1</td>\n",
       "      <td>1</td>\n",
       "      <td>UNO MÁS</td>\n",
       "      <td>2222.00</td>\n",
       "    </tr>\n",
       "    <tr>\n",
       "      <th>...</th>\n",
       "      <td>...</td>\n",
       "      <td>...</td>\n",
       "      <td>...</td>\n",
       "      <td>...</td>\n",
       "    </tr>\n",
       "    <tr>\n",
       "      <th>495</th>\n",
       "      <td>2</td>\n",
       "      <td>2</td>\n",
       "      <td>UNO MÁS</td>\n",
       "      <td>1203.17</td>\n",
       "    </tr>\n",
       "    <tr>\n",
       "      <th>496</th>\n",
       "      <td>1</td>\n",
       "      <td>3</td>\n",
       "      <td>Se mantiene</td>\n",
       "      <td>1660.07</td>\n",
       "    </tr>\n",
       "    <tr>\n",
       "      <th>497</th>\n",
       "      <td>1</td>\n",
       "      <td>3</td>\n",
       "      <td>Se mantiene</td>\n",
       "      <td>1675.30</td>\n",
       "    </tr>\n",
       "    <tr>\n",
       "      <th>498</th>\n",
       "      <td>1</td>\n",
       "      <td>1</td>\n",
       "      <td>UNO MÁS</td>\n",
       "      <td>1644.84</td>\n",
       "    </tr>\n",
       "    <tr>\n",
       "      <th>499</th>\n",
       "      <td>1</td>\n",
       "      <td>1</td>\n",
       "      <td>UNO MÁS</td>\n",
       "      <td>1812.37</td>\n",
       "    </tr>\n",
       "  </tbody>\n",
       "</table>\n",
       "<p>500 rows × 4 columns</p>\n",
       "</div>"
      ],
      "text/plain": [
       "     Grecia  Canada       Fuente    Score\n",
       "0         1       3       Unidos  1705.76\n",
       "1         1       1      UNO MÁS  1340.24\n",
       "2         1       1      UNO MÁS  1720.99\n",
       "3         1       1      UNO MÁS  1111.00\n",
       "4         1       1      UNO MÁS  2222.00\n",
       "..      ...     ...          ...      ...\n",
       "495       2       2      UNO MÁS  1203.17\n",
       "496       1       3  Se mantiene  1660.07\n",
       "497       1       3  Se mantiene  1675.30\n",
       "498       1       1      UNO MÁS  1644.84\n",
       "499       1       1      UNO MÁS  1812.37\n",
       "\n",
       "[500 rows x 4 columns]"
      ]
     },
     "execution_count": 30,
     "metadata": {},
     "output_type": "execute_result"
    }
   ],
   "source": [
    "dg2.replace(\"Mas uno\", \"UNO MÁS\")"
   ]
  },
  {
   "cell_type": "markdown",
   "id": "5081d4f3",
   "metadata": {},
   "source": [
    "# Missing Data_ Pag 100"
   ]
  },
  {
   "cell_type": "code",
   "execution_count": 4,
   "id": "45b295b2",
   "metadata": {},
   "outputs": [],
   "source": [
    "data=[[\"Mark\", 55, \"Italy\", 4.5, \"Europe\"],\n",
    "[\"John\", 33, \"USA\", 6.7, \"America\"],\n",
    "[\"Tim\", 41, \"USA\", 3.9, \"America\"],\n",
    "[\"Jenny\", 12, \"Germany\", 9.0, \"Europe\"]]\n",
    "df = pd.DataFrame(data=data,\n",
    "columns=[\"name\", \"age\", \"country\",\n",
    "\"score\", \"continent\"],\n",
    "index=[1001, 1000, 1002, 1003])"
   ]
  },
  {
   "cell_type": "code",
   "execution_count": 5,
   "id": "12750590",
   "metadata": {},
   "outputs": [
    {
     "data": {
      "text/html": [
       "<div>\n",
       "<style scoped>\n",
       "    .dataframe tbody tr th:only-of-type {\n",
       "        vertical-align: middle;\n",
       "    }\n",
       "\n",
       "    .dataframe tbody tr th {\n",
       "        vertical-align: top;\n",
       "    }\n",
       "\n",
       "    .dataframe thead th {\n",
       "        text-align: right;\n",
       "    }\n",
       "</style>\n",
       "<table border=\"1\" class=\"dataframe\">\n",
       "  <thead>\n",
       "    <tr style=\"text-align: right;\">\n",
       "      <th></th>\n",
       "      <th>name</th>\n",
       "      <th>age</th>\n",
       "      <th>country</th>\n",
       "      <th>score</th>\n",
       "      <th>continent</th>\n",
       "    </tr>\n",
       "  </thead>\n",
       "  <tbody>\n",
       "    <tr>\n",
       "      <th>1001</th>\n",
       "      <td>Mark</td>\n",
       "      <td>55</td>\n",
       "      <td>Italy</td>\n",
       "      <td>4.5</td>\n",
       "      <td>Europe</td>\n",
       "    </tr>\n",
       "    <tr>\n",
       "      <th>1000</th>\n",
       "      <td>John</td>\n",
       "      <td>33</td>\n",
       "      <td>USA</td>\n",
       "      <td>6.7</td>\n",
       "      <td>America</td>\n",
       "    </tr>\n",
       "    <tr>\n",
       "      <th>1002</th>\n",
       "      <td>Tim</td>\n",
       "      <td>41</td>\n",
       "      <td>USA</td>\n",
       "      <td>3.9</td>\n",
       "      <td>America</td>\n",
       "    </tr>\n",
       "    <tr>\n",
       "      <th>1003</th>\n",
       "      <td>Jenny</td>\n",
       "      <td>12</td>\n",
       "      <td>Germany</td>\n",
       "      <td>9.0</td>\n",
       "      <td>Europe</td>\n",
       "    </tr>\n",
       "  </tbody>\n",
       "</table>\n",
       "</div>"
      ],
      "text/plain": [
       "       name  age  country  score continent\n",
       "1001   Mark   55    Italy    4.5    Europe\n",
       "1000   John   33      USA    6.7   America\n",
       "1002    Tim   41      USA    3.9   America\n",
       "1003  Jenny   12  Germany    9.0    Europe"
      ]
     },
     "execution_count": 5,
     "metadata": {},
     "output_type": "execute_result"
    }
   ],
   "source": [
    "df.head()"
   ]
  },
  {
   "cell_type": "code",
   "execution_count": 6,
   "id": "6b2ca092",
   "metadata": {},
   "outputs": [
    {
     "data": {
      "text/html": [
       "<div>\n",
       "<style scoped>\n",
       "    .dataframe tbody tr th:only-of-type {\n",
       "        vertical-align: middle;\n",
       "    }\n",
       "\n",
       "    .dataframe tbody tr th {\n",
       "        vertical-align: top;\n",
       "    }\n",
       "\n",
       "    .dataframe thead th {\n",
       "        text-align: right;\n",
       "    }\n",
       "</style>\n",
       "<table border=\"1\" class=\"dataframe\">\n",
       "  <thead>\n",
       "    <tr style=\"text-align: right;\">\n",
       "      <th></th>\n",
       "      <th>name</th>\n",
       "      <th>age</th>\n",
       "      <th>country</th>\n",
       "      <th>score</th>\n",
       "      <th>continent</th>\n",
       "    </tr>\n",
       "  </thead>\n",
       "  <tbody>\n",
       "    <tr>\n",
       "      <th>1001</th>\n",
       "      <td>Mark</td>\n",
       "      <td>55.0</td>\n",
       "      <td>Italy</td>\n",
       "      <td>4.5</td>\n",
       "      <td>Europe</td>\n",
       "    </tr>\n",
       "    <tr>\n",
       "      <th>1000</th>\n",
       "      <td>John</td>\n",
       "      <td>33.0</td>\n",
       "      <td>USA</td>\n",
       "      <td>NaN</td>\n",
       "      <td>America</td>\n",
       "    </tr>\n",
       "    <tr>\n",
       "      <th>1002</th>\n",
       "      <td>Tim</td>\n",
       "      <td>41.0</td>\n",
       "      <td>USA</td>\n",
       "      <td>3.9</td>\n",
       "      <td>America</td>\n",
       "    </tr>\n",
       "    <tr>\n",
       "      <th>1003</th>\n",
       "      <td>None</td>\n",
       "      <td>NaN</td>\n",
       "      <td>None</td>\n",
       "      <td>NaN</td>\n",
       "      <td>None</td>\n",
       "    </tr>\n",
       "  </tbody>\n",
       "</table>\n",
       "</div>"
      ],
      "text/plain": [
       "      name   age country  score continent\n",
       "1001  Mark  55.0   Italy    4.5    Europe\n",
       "1000  John  33.0     USA    NaN   America\n",
       "1002   Tim  41.0     USA    3.9   America\n",
       "1003  None   NaN    None    NaN      None"
      ]
     },
     "execution_count": 6,
     "metadata": {},
     "output_type": "execute_result"
    }
   ],
   "source": [
    "df2 = df.copy() # Let's start with a fresh copy\n",
    "df2.loc[1000, \"score\"] = None\n",
    "df2.loc[1003, :] = None\n",
    "df2"
   ]
  },
  {
   "cell_type": "markdown",
   "id": "97b5c3a5",
   "metadata": {},
   "source": [
    "* remove rows with missing data"
   ]
  },
  {
   "cell_type": "code",
   "execution_count": 7,
   "id": "e557a747",
   "metadata": {},
   "outputs": [
    {
     "data": {
      "text/html": [
       "<div>\n",
       "<style scoped>\n",
       "    .dataframe tbody tr th:only-of-type {\n",
       "        vertical-align: middle;\n",
       "    }\n",
       "\n",
       "    .dataframe tbody tr th {\n",
       "        vertical-align: top;\n",
       "    }\n",
       "\n",
       "    .dataframe thead th {\n",
       "        text-align: right;\n",
       "    }\n",
       "</style>\n",
       "<table border=\"1\" class=\"dataframe\">\n",
       "  <thead>\n",
       "    <tr style=\"text-align: right;\">\n",
       "      <th></th>\n",
       "      <th>name</th>\n",
       "      <th>age</th>\n",
       "      <th>country</th>\n",
       "      <th>score</th>\n",
       "      <th>continent</th>\n",
       "    </tr>\n",
       "  </thead>\n",
       "  <tbody>\n",
       "    <tr>\n",
       "      <th>1001</th>\n",
       "      <td>Mark</td>\n",
       "      <td>55.0</td>\n",
       "      <td>Italy</td>\n",
       "      <td>4.5</td>\n",
       "      <td>Europe</td>\n",
       "    </tr>\n",
       "    <tr>\n",
       "      <th>1002</th>\n",
       "      <td>Tim</td>\n",
       "      <td>41.0</td>\n",
       "      <td>USA</td>\n",
       "      <td>3.9</td>\n",
       "      <td>America</td>\n",
       "    </tr>\n",
       "  </tbody>\n",
       "</table>\n",
       "</div>"
      ],
      "text/plain": [
       "      name   age country  score continent\n",
       "1001  Mark  55.0   Italy    4.5    Europe\n",
       "1002   Tim  41.0     USA    3.9   America"
      ]
     },
     "execution_count": 7,
     "metadata": {},
     "output_type": "execute_result"
    }
   ],
   "source": [
    "df2.dropna()"
   ]
  },
  {
   "cell_type": "markdown",
   "id": "f7e76875",
   "metadata": {},
   "source": [
    "If, however, you only want to remove rows where all values are missing, use the how parameter:"
   ]
  },
  {
   "cell_type": "code",
   "execution_count": 8,
   "id": "07e91ef5",
   "metadata": {},
   "outputs": [
    {
     "data": {
      "text/html": [
       "<div>\n",
       "<style scoped>\n",
       "    .dataframe tbody tr th:only-of-type {\n",
       "        vertical-align: middle;\n",
       "    }\n",
       "\n",
       "    .dataframe tbody tr th {\n",
       "        vertical-align: top;\n",
       "    }\n",
       "\n",
       "    .dataframe thead th {\n",
       "        text-align: right;\n",
       "    }\n",
       "</style>\n",
       "<table border=\"1\" class=\"dataframe\">\n",
       "  <thead>\n",
       "    <tr style=\"text-align: right;\">\n",
       "      <th></th>\n",
       "      <th>name</th>\n",
       "      <th>age</th>\n",
       "      <th>country</th>\n",
       "      <th>score</th>\n",
       "      <th>continent</th>\n",
       "    </tr>\n",
       "  </thead>\n",
       "  <tbody>\n",
       "    <tr>\n",
       "      <th>1001</th>\n",
       "      <td>Mark</td>\n",
       "      <td>55.0</td>\n",
       "      <td>Italy</td>\n",
       "      <td>4.5</td>\n",
       "      <td>Europe</td>\n",
       "    </tr>\n",
       "    <tr>\n",
       "      <th>1000</th>\n",
       "      <td>John</td>\n",
       "      <td>33.0</td>\n",
       "      <td>USA</td>\n",
       "      <td>NaN</td>\n",
       "      <td>America</td>\n",
       "    </tr>\n",
       "    <tr>\n",
       "      <th>1002</th>\n",
       "      <td>Tim</td>\n",
       "      <td>41.0</td>\n",
       "      <td>USA</td>\n",
       "      <td>3.9</td>\n",
       "      <td>America</td>\n",
       "    </tr>\n",
       "  </tbody>\n",
       "</table>\n",
       "</div>"
      ],
      "text/plain": [
       "      name   age country  score continent\n",
       "1001  Mark  55.0   Italy    4.5    Europe\n",
       "1000  John  33.0     USA    NaN   America\n",
       "1002   Tim  41.0     USA    3.9   America"
      ]
     },
     "execution_count": 8,
     "metadata": {},
     "output_type": "execute_result"
    }
   ],
   "source": [
    "df2.dropna(how=\"all\")"
   ]
  },
  {
   "cell_type": "markdown",
   "id": "30af1aa0",
   "metadata": {},
   "source": [
    "To fill missing values, use fillna. For example, to replace NaN in the score column with its mean"
   ]
  },
  {
   "cell_type": "code",
   "execution_count": 9,
   "id": "35c25b40",
   "metadata": {},
   "outputs": [
    {
     "data": {
      "text/html": [
       "<div>\n",
       "<style scoped>\n",
       "    .dataframe tbody tr th:only-of-type {\n",
       "        vertical-align: middle;\n",
       "    }\n",
       "\n",
       "    .dataframe tbody tr th {\n",
       "        vertical-align: top;\n",
       "    }\n",
       "\n",
       "    .dataframe thead th {\n",
       "        text-align: right;\n",
       "    }\n",
       "</style>\n",
       "<table border=\"1\" class=\"dataframe\">\n",
       "  <thead>\n",
       "    <tr style=\"text-align: right;\">\n",
       "      <th></th>\n",
       "      <th>name</th>\n",
       "      <th>age</th>\n",
       "      <th>country</th>\n",
       "      <th>score</th>\n",
       "      <th>continent</th>\n",
       "    </tr>\n",
       "  </thead>\n",
       "  <tbody>\n",
       "    <tr>\n",
       "      <th>1001</th>\n",
       "      <td>Mark</td>\n",
       "      <td>55.0</td>\n",
       "      <td>Italy</td>\n",
       "      <td>4.5</td>\n",
       "      <td>Europe</td>\n",
       "    </tr>\n",
       "    <tr>\n",
       "      <th>1000</th>\n",
       "      <td>John</td>\n",
       "      <td>33.0</td>\n",
       "      <td>USA</td>\n",
       "      <td>4.2</td>\n",
       "      <td>America</td>\n",
       "    </tr>\n",
       "    <tr>\n",
       "      <th>1002</th>\n",
       "      <td>Tim</td>\n",
       "      <td>41.0</td>\n",
       "      <td>USA</td>\n",
       "      <td>3.9</td>\n",
       "      <td>America</td>\n",
       "    </tr>\n",
       "    <tr>\n",
       "      <th>1003</th>\n",
       "      <td>None</td>\n",
       "      <td>NaN</td>\n",
       "      <td>None</td>\n",
       "      <td>4.2</td>\n",
       "      <td>None</td>\n",
       "    </tr>\n",
       "  </tbody>\n",
       "</table>\n",
       "</div>"
      ],
      "text/plain": [
       "      name   age country  score continent\n",
       "1001  Mark  55.0   Italy    4.5    Europe\n",
       "1000  John  33.0     USA    4.2   America\n",
       "1002   Tim  41.0     USA    3.9   America\n",
       "1003  None   NaN    None    4.2      None"
      ]
     },
     "execution_count": 9,
     "metadata": {},
     "output_type": "execute_result"
    }
   ],
   "source": [
    "df2.fillna({\"score\": df2[\"score\"].mean()})"
   ]
  },
  {
   "cell_type": "markdown",
   "id": "ad6e898c",
   "metadata": {},
   "source": [
    "# Duplicate Data Pag 102"
   ]
  },
  {
   "cell_type": "code",
   "execution_count": null,
   "id": "76d35643",
   "metadata": {},
   "outputs": [],
   "source": []
  },
  {
   "cell_type": "code",
   "execution_count": null,
   "id": "7c3e7e2e",
   "metadata": {},
   "outputs": [],
   "source": []
  },
  {
   "cell_type": "markdown",
   "id": "b07f444b",
   "metadata": {},
   "source": [
    "# Filter dataframe"
   ]
  },
  {
   "cell_type": "markdown",
   "id": "8ac51d49",
   "metadata": {},
   "source": [
    "To filter one condition, we apply the following code"
   ]
  },
  {
   "cell_type": "code",
   "execution_count": 20,
   "id": "8095a68a",
   "metadata": {},
   "outputs": [],
   "source": [
    "Grecia_A = dg[dg[\"Grecia\"] == 2]"
   ]
  },
  {
   "cell_type": "code",
   "execution_count": 21,
   "id": "80fb6c6d",
   "metadata": {},
   "outputs": [
    {
     "data": {
      "text/html": [
       "<div>\n",
       "<style scoped>\n",
       "    .dataframe tbody tr th:only-of-type {\n",
       "        vertical-align: middle;\n",
       "    }\n",
       "\n",
       "    .dataframe tbody tr th {\n",
       "        vertical-align: top;\n",
       "    }\n",
       "\n",
       "    .dataframe thead th {\n",
       "        text-align: right;\n",
       "    }\n",
       "</style>\n",
       "<table border=\"1\" class=\"dataframe\">\n",
       "  <thead>\n",
       "    <tr style=\"text-align: right;\">\n",
       "      <th></th>\n",
       "      <th>Grecia</th>\n",
       "      <th>Canada</th>\n",
       "      <th>Fuente</th>\n",
       "      <th>Score</th>\n",
       "    </tr>\n",
       "  </thead>\n",
       "  <tbody>\n",
       "    <tr>\n",
       "      <th>6</th>\n",
       "      <td>2</td>\n",
       "      <td>1</td>\n",
       "      <td>Suma Dos</td>\n",
       "      <td>1842.83</td>\n",
       "    </tr>\n",
       "    <tr>\n",
       "      <th>7</th>\n",
       "      <td>2</td>\n",
       "      <td>1</td>\n",
       "      <td>Suma Dos</td>\n",
       "      <td>1736.22</td>\n",
       "    </tr>\n",
       "    <tr>\n",
       "      <th>11</th>\n",
       "      <td>2</td>\n",
       "      <td>3</td>\n",
       "      <td>Mas uno</td>\n",
       "      <td>1675.30</td>\n",
       "    </tr>\n",
       "    <tr>\n",
       "      <th>22</th>\n",
       "      <td>2</td>\n",
       "      <td>1</td>\n",
       "      <td>Suma Dos</td>\n",
       "      <td>1157.48</td>\n",
       "    </tr>\n",
       "    <tr>\n",
       "      <th>23</th>\n",
       "      <td>2</td>\n",
       "      <td>1</td>\n",
       "      <td>Suma Dos</td>\n",
       "      <td>1172.71</td>\n",
       "    </tr>\n",
       "  </tbody>\n",
       "</table>\n",
       "</div>"
      ],
      "text/plain": [
       "    Grecia  Canada    Fuente    Score\n",
       "6        2       1  Suma Dos  1842.83\n",
       "7        2       1  Suma Dos  1736.22\n",
       "11       2       3   Mas uno  1675.30\n",
       "22       2       1  Suma Dos  1157.48\n",
       "23       2       1  Suma Dos  1172.71"
      ]
     },
     "execution_count": 21,
     "metadata": {},
     "output_type": "execute_result"
    }
   ],
   "source": [
    "Grecia_A.head()"
   ]
  }
 ],
 "metadata": {
  "kernelspec": {
   "display_name": "Python 3 (ipykernel)",
   "language": "python",
   "name": "python3"
  },
  "language_info": {
   "codemirror_mode": {
    "name": "ipython",
    "version": 3
   },
   "file_extension": ".py",
   "mimetype": "text/x-python",
   "name": "python",
   "nbconvert_exporter": "python",
   "pygments_lexer": "ipython3",
   "version": "3.10.9"
  }
 },
 "nbformat": 4,
 "nbformat_minor": 5
}
